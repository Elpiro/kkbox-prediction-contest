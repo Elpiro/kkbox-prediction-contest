{
 "cells": [
  {
   "cell_type": "code",
   "execution_count": 1,
   "metadata": {},
   "outputs": [],
   "source": [
    "import pandas as pd"
   ]
  },
  {
   "cell_type": "code",
   "execution_count": 2,
   "metadata": {},
   "outputs": [],
   "source": [
    "# Define the chunk size to retrieve data from csv file to pd.DataFrame\n",
    "chunk_size = 1024*10\n",
    "\n",
    "# Define path to csv file\n",
    "train_data_path = \"/Users/bn/Github/wsdm_kkbox/data/train.csv\"\n",
    "songs_data_path = \"/Users/bn/Github/wsdm_kkbox/data/songs.csv\"\n",
    "songs_extrainfo_data_path = \"/Users/bn/Github/wsdm_kkbox/data/song_extra_info.csv\"\n",
    "memebers_data_path = \"/Users/bn/Github/wsdm_kkbox/data/members.csv\"\n",
    "\n",
    "# Define path to HDF5 file\n",
    "h5file_path = '/Users/bn/Github/wsdm_kkbox/data/kkbox.h5'\n",
    "\n",
    "# Data List\n",
    "dtList = ['train', 'songs', 'songs_extinfo', 'members']"
   ]
  },
  {
   "cell_type": "code",
   "execution_count": 3,
   "metadata": {},
   "outputs": [],
   "source": [
    "def saveToHDF5(key, path=h5file_path):\n",
    "    # key = String\n",
    "    # data_frame = pandas.DataFrame\n",
    "    try:\n",
    "        df_tmp = globals()[key]\n",
    "        df_tmp = df_tmp.fillna('')\n",
    "        df_tmp.to_hdf(path, key=key, mode='a')\n",
    "        print('Sucessfully save {0} to hdf5 file!'.format(key))\n",
    "    except Exception as e:\n",
    "        print(e)"
   ]
  },
  {
   "cell_type": "code",
   "execution_count": 4,
   "metadata": {},
   "outputs": [
    {
     "name": "stdout",
     "output_type": "stream",
     "text": [
      "<class 'pandas.core.frame.DataFrame'>\n",
      "RangeIndex: 7377418 entries, 0 to 7377417\n",
      "Data columns (total 6 columns):\n",
      "msno                  object\n",
      "song_id               object\n",
      "source_system_tab     object\n",
      "source_screen_name    object\n",
      "source_type           object\n",
      "target                int64\n",
      "dtypes: int64(1), object(5)\n",
      "memory usage: 337.7+ MB\n",
      "None \n",
      "\n",
      "msno                       0\n",
      "song_id                    0\n",
      "source_system_tab      18371\n",
      "source_screen_name    414804\n",
      "source_type            21539\n",
      "target                     0\n",
      "dtype: int64 \n",
      "\n",
      "CPU times: user 12.6 s, sys: 1.39 s, total: 14 s\n",
      "Wall time: 14 s\n"
     ]
    }
   ],
   "source": [
    "%%time\n",
    "train_reader = pd.read_csv(train_data_path, chunksize=chunk_size, iterator=True)\n",
    "train = pd.concat(train_reader, ignore_index=True)\n",
    "print(train.info(), \"\\n\")\n",
    "print(train.isnull().sum(axis=0), '\\n')"
   ]
  },
  {
   "cell_type": "code",
   "execution_count": 5,
   "metadata": {},
   "outputs": [
    {
     "name": "stdout",
     "output_type": "stream",
     "text": [
      "<class 'pandas.core.frame.DataFrame'>\n",
      "RangeIndex: 2296320 entries, 0 to 2296319\n",
      "Data columns (total 7 columns):\n",
      "song_id        object\n",
      "song_length    int64\n",
      "genre_ids      object\n",
      "artist_name    object\n",
      "composer       object\n",
      "lyricist       object\n",
      "language       float64\n",
      "dtypes: float64(1), int64(1), object(5)\n",
      "memory usage: 122.6+ MB\n",
      "None \n",
      "\n",
      "song_id              0\n",
      "song_length          0\n",
      "genre_ids        94116\n",
      "artist_name          0\n",
      "composer       1071348\n",
      "lyricist       1945243\n",
      "language             1\n",
      "dtype: int64 \n",
      "\n",
      "CPU times: user 4.99 s, sys: 642 ms, total: 5.63 s\n",
      "Wall time: 5.63 s\n"
     ]
    }
   ],
   "source": [
    "%%time\n",
    "songs_reader = pd.read_csv(songs_data_path, chunksize=chunk_size, iterator=True)\n",
    "songs = pd.concat(songs_reader, ignore_index=True)\n",
    "print(songs.info(), '\\n')\n",
    "print(songs.isnull().sum(axis=0), '\\n')"
   ]
  },
  {
   "cell_type": "code",
   "execution_count": 6,
   "metadata": {},
   "outputs": [
    {
     "name": "stdout",
     "output_type": "stream",
     "text": [
      "<class 'pandas.core.frame.DataFrame'>\n",
      "RangeIndex: 2295971 entries, 0 to 2295970\n",
      "Data columns (total 3 columns):\n",
      "song_id    object\n",
      "name       object\n",
      "isrc       object\n",
      "dtypes: object(3)\n",
      "memory usage: 52.6+ MB\n",
      "None \n",
      "\n",
      "song_id         0\n",
      "name            2\n",
      "isrc       136548\n",
      "dtype: int64 \n",
      "\n",
      "CPU times: user 3.52 s, sys: 452 ms, total: 3.97 s\n",
      "Wall time: 3.97 s\n"
     ]
    }
   ],
   "source": [
    "%%time\n",
    "songs_extinfo_reader = pd.read_csv(songs_extrainfo_data_path, chunksize=chunk_size, iterator=True)\n",
    "songs_extinfo = pd.concat(songs_extinfo_reader, ignore_index=True)\n",
    "print(songs_extinfo.info(), \"\\n\")\n",
    "print(songs_extinfo.isnull().sum(axis=0), '\\n')"
   ]
  },
  {
   "cell_type": "code",
   "execution_count": 7,
   "metadata": {},
   "outputs": [
    {
     "name": "stdout",
     "output_type": "stream",
     "text": [
      "<class 'pandas.core.frame.DataFrame'>\n",
      "RangeIndex: 34403 entries, 0 to 34402\n",
      "Data columns (total 7 columns):\n",
      "msno                      34403 non-null object\n",
      "city                      34403 non-null int64\n",
      "bd                        34403 non-null int64\n",
      "gender                    14501 non-null object\n",
      "registered_via            34403 non-null int64\n",
      "registration_init_time    34403 non-null int64\n",
      "expiration_date           34403 non-null int64\n",
      "dtypes: int64(5), object(2)\n",
      "memory usage: 1.8+ MB\n",
      "None \n",
      "\n",
      "msno                          0\n",
      "city                          0\n",
      "bd                            0\n",
      "gender                    19902\n",
      "registered_via                0\n",
      "registration_init_time        0\n",
      "expiration_date               0\n",
      "dtype: int64 \n",
      "\n",
      "CPU times: user 61.3 ms, sys: 11.7 ms, total: 73.1 ms\n",
      "Wall time: 71.5 ms\n"
     ]
    }
   ],
   "source": [
    "%%time\n",
    "members_reader = pd.read_csv(memebers_data_path, chunksize=chunk_size, iterator=True)\n",
    "members = pd.concat(members_reader, ignore_index=True)\n",
    "print(members.info(), '\\n')\n",
    "print(members.isnull().sum(axis=0), '\\n')"
   ]
  },
  {
   "cell_type": "code",
   "execution_count": 8,
   "metadata": {},
   "outputs": [
    {
     "name": "stdout",
     "output_type": "stream",
     "text": [
      "Sucessfully save train to hdf5 file!\n"
     ]
    },
    {
     "name": "stderr",
     "output_type": "stream",
     "text": [
      "/usr/local/lib/python3.5/site-packages/pandas/core/generic.py:1138: PerformanceWarning: \n",
      "your performance may suffer as PyTables will pickle object types that it cannot\n",
      "map directly to c-types [inferred_type->mixed,key->block1_values] [items->['song_id', 'genre_ids', 'artist_name', 'composer', 'lyricist', 'language']]\n",
      "\n",
      "  return pytables.to_hdf(path_or_buf, key, self, **kwargs)\n"
     ]
    },
    {
     "name": "stdout",
     "output_type": "stream",
     "text": [
      "Sucessfully save songs to hdf5 file!\n",
      "Sucessfully save songs_extinfo to hdf5 file!\n",
      "Sucessfully save members to hdf5 file!\n",
      "CPU times: user 13.9 s, sys: 2.69 s, total: 16.6 s\n",
      "Wall time: 17.3 s\n"
     ]
    }
   ],
   "source": [
    "%%time\n",
    "for key in dtList:\n",
    "    saveToHDF5(key)"
   ]
  },
  {
   "cell_type": "markdown",
   "metadata": {},
   "source": [
    "Download HDF5 file from Dropbox: [GO!](https://db.tt/ITOLCi9OZw)"
   ]
  }
 ],
 "metadata": {
  "kernelspec": {
   "display_name": "Python 3",
   "language": "python",
   "name": "python3"
  },
  "language_info": {
   "codemirror_mode": {
    "name": "ipython",
    "version": 3
   },
   "file_extension": ".py",
   "mimetype": "text/x-python",
   "name": "python",
   "nbconvert_exporter": "python",
   "pygments_lexer": "ipython3",
   "version": "3.5.2"
  }
 },
 "nbformat": 4,
 "nbformat_minor": 2
}
